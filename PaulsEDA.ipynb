{
 "cells": [
  {
   "cell_type": "code",
   "execution_count": 290,
   "metadata": {},
   "outputs": [],
   "source": [
    "import pandas as pd\n",
    "import numpy as np\n",
    "import matplotlib.pyplot as plt\n",
    "from collections import defaultdict, Counter\n",
    "from scipy import sparse"
   ]
  },
  {
   "cell_type": "code",
   "execution_count": 7,
   "metadata": {},
   "outputs": [],
   "source": [
    "items = pd.read_csv('data/item_to_id.csv')"
   ]
  },
  {
   "cell_type": "code",
   "execution_count": 8,
   "metadata": {},
   "outputs": [],
   "source": [
    "purch = pd.read_csv('data/purchase_history.csv')"
   ]
  },
  {
   "cell_type": "code",
   "execution_count": 14,
   "metadata": {},
   "outputs": [
    {
     "data": {
      "text/plain": [
       "((48, 2),          Item_name  Item_id\n",
       " 0           coffee       43\n",
       " 1              tea       23\n",
       " 2            juice       38\n",
       " 3             soda        9\n",
       " 4  sandwich loaves       39)"
      ]
     },
     "execution_count": 14,
     "metadata": {},
     "output_type": "execute_result"
    }
   ],
   "source": [
    "items.shape, items.head()\n"
   ]
  },
  {
   "cell_type": "code",
   "execution_count": 298,
   "metadata": {},
   "outputs": [],
   "source": [
    "item_dict = dict(zip(items.Item_id,items.Item_name))"
   ]
  },
  {
   "cell_type": "code",
   "execution_count": 299,
   "metadata": {},
   "outputs": [
    {
     "data": {
      "text/plain": [
       "{43: 'coffee',\n",
       " 23: 'tea',\n",
       " 38: 'juice',\n",
       " 9: 'soda',\n",
       " 39: 'sandwich loaves',\n",
       " 37: 'dinner rolls',\n",
       " 34: 'tortillas',\n",
       " 13: 'bagels',\n",
       " 28: 'canned vegetables',\n",
       " 26: 'spaghetti sauce',\n",
       " 41: 'ketchup',\n",
       " 21: 'cheeses',\n",
       " 14: 'eggs',\n",
       " 16: 'milk',\n",
       " 48: 'yogurt',\n",
       " 8: 'butter',\n",
       " 11: 'cereals',\n",
       " 30: 'flour',\n",
       " 1: 'sugar',\n",
       " 31: 'pasta',\n",
       " 5: 'waffles',\n",
       " 22: 'frozen vegetables',\n",
       " 36: 'ice cream',\n",
       " 6: 'poultry',\n",
       " 17: 'beef',\n",
       " 47: 'pork',\n",
       " 46: 'bananas',\n",
       " 40: 'berries',\n",
       " 25: 'cherries',\n",
       " 20: 'grapefruit',\n",
       " 32: 'apples',\n",
       " 44: 'broccoli',\n",
       " 10: 'carrots',\n",
       " 45: 'cauliflower',\n",
       " 42: 'cucumbers',\n",
       " 2: 'lettuce',\n",
       " 18: 'laundry detergent',\n",
       " 27: 'dishwashing\\xa0',\n",
       " 24: 'paper towels',\n",
       " 33: 'toilet paper',\n",
       " 15: 'aluminum foil',\n",
       " 7: 'sandwich bags',\n",
       " 12: 'shampoo',\n",
       " 35: 'soap',\n",
       " 29: 'hand soap',\n",
       " 19: 'shaving cream',\n",
       " 4: 'baby items',\n",
       " 3: 'pet items'}"
      ]
     },
     "execution_count": 299,
     "metadata": {},
     "output_type": "execute_result"
    }
   ],
   "source": [
    "item_dict"
   ]
  },
  {
   "cell_type": "code",
   "execution_count": 15,
   "metadata": {},
   "outputs": [
    {
     "data": {
      "text/plain": [
       "((39474, 2),    user_id                                                 id\n",
       " 0   222087                                              27,26\n",
       " 1  1343649                                            6,47,17\n",
       " 2   404134                       18,12,23,22,27,43,38,20,35,1\n",
       " 3  1110200                                 9,23,2,20,26,47,37\n",
       " 4   224107  31,18,5,13,1,21,48,16,26,2,44,32,20,37,42,35,4...)"
      ]
     },
     "execution_count": 15,
     "metadata": {},
     "output_type": "execute_result"
    }
   ],
   "source": [
    "purch.shape, purch.head()\n"
   ]
  },
  {
   "cell_type": "code",
   "execution_count": 22,
   "metadata": {},
   "outputs": [
    {
     "data": {
      "text/plain": [
       "24885"
      ]
     },
     "execution_count": 22,
     "metadata": {},
     "output_type": "execute_result"
    }
   ],
   "source": [
    "len(purch.user_id.unique())"
   ]
  },
  {
   "cell_type": "code",
   "execution_count": 18,
   "metadata": {},
   "outputs": [
    {
     "data": {
      "text/plain": [
       "696000     7\n",
       "31625      7\n",
       "653800     7\n",
       "884172     7\n",
       "315516     6\n",
       "453019     6\n",
       "38872      6\n",
       "779061     6\n",
       "1374100    6\n",
       "813270     6\n",
       "64998      6\n",
       "1271578    6\n",
       "1499087    6\n",
       "917199     6\n",
       "946453     6\n",
       "373484     6\n",
       "1270373    6\n",
       "367872     6\n",
       "599172     6\n",
       "238495     6\n",
       "617988     6\n",
       "719358     6\n",
       "117178     6\n",
       "920002     6\n",
       "269335     6\n",
       "723012     6\n",
       "1485538    6\n",
       "828721     6\n",
       "820788     5\n",
       "1494796    5\n",
       "          ..\n",
       "33986      1\n",
       "187593     1\n",
       "785613     1\n",
       "295767     1\n",
       "1254614    1\n",
       "641290     1\n",
       "43310      1\n",
       "744665     1\n",
       "627936     1\n",
       "961767     1\n",
       "512403     1\n",
       "1195253    1\n",
       "1328314    1\n",
       "875705     1\n",
       "939192     1\n",
       "486355     1\n",
       "736730     1\n",
       "1240239    1\n",
       "1092775    1\n",
       "365728     1\n",
       "1076383    1\n",
       "243198     1\n",
       "1193108    1\n",
       "894126     1\n",
       "1485489    1\n",
       "916621     1\n",
       "652428     1\n",
       "840840     1\n",
       "1401982    1\n",
       "1023836    1\n",
       "Name: user_id, Length: 24885, dtype: int64"
      ]
     },
     "execution_count": 18,
     "metadata": {},
     "output_type": "execute_result"
    }
   ],
   "source": [
    "purch.user_id.value_counts()"
   ]
  },
  {
   "cell_type": "code",
   "execution_count": 61,
   "metadata": {},
   "outputs": [],
   "source": [
    "purch['item_count']=purch['id'].count()"
   ]
  },
  {
   "cell_type": "code",
   "execution_count": 86,
   "metadata": {},
   "outputs": [],
   "source": [
    "iz=purch[:1]['id'].values"
   ]
  },
  {
   "cell_type": "code",
   "execution_count": 104,
   "metadata": {},
   "outputs": [],
   "source": [
    "item_counts=[]\n",
    "customer_items=defaultdict()\n",
    "for idx in purch['id']:\n",
    "    item_counts.append(len(idx))\n",
    "    "
   ]
  },
  {
   "cell_type": "code",
   "execution_count": 108,
   "metadata": {},
   "outputs": [],
   "source": [
    "purch['item_counts']=item_counts"
   ]
  },
  {
   "cell_type": "code",
   "execution_count": 113,
   "metadata": {},
   "outputs": [
    {
     "data": {
      "text/html": [
       "<div>\n",
       "<style scoped>\n",
       "    .dataframe tbody tr th:only-of-type {\n",
       "        vertical-align: middle;\n",
       "    }\n",
       "\n",
       "    .dataframe tbody tr th {\n",
       "        vertical-align: top;\n",
       "    }\n",
       "\n",
       "    .dataframe thead th {\n",
       "        text-align: right;\n",
       "    }\n",
       "</style>\n",
       "<table border=\"1\" class=\"dataframe\">\n",
       "  <thead>\n",
       "    <tr style=\"text-align: right;\">\n",
       "      <th></th>\n",
       "      <th>user_id</th>\n",
       "      <th>id</th>\n",
       "      <th>item_count</th>\n",
       "      <th>item_counts</th>\n",
       "    </tr>\n",
       "  </thead>\n",
       "  <tbody>\n",
       "    <tr>\n",
       "      <th>3332</th>\n",
       "      <td>388149</td>\n",
       "      <td>18,38,36,7,1,10,45,26,39,5,44,40,32,25,9,21,28...</td>\n",
       "      <td>39474</td>\n",
       "      <td>75</td>\n",
       "    </tr>\n",
       "  </tbody>\n",
       "</table>\n",
       "</div>"
      ],
      "text/plain": [
       "      user_id                                                 id  item_count  \\\n",
       "3332   388149  18,38,36,7,1,10,45,26,39,5,44,40,32,25,9,21,28...       39474   \n",
       "\n",
       "      item_counts  \n",
       "3332           75  "
      ]
     },
     "execution_count": 113,
     "metadata": {},
     "output_type": "execute_result"
    }
   ],
   "source": [
    "purch[purch['item_counts']==purch['item_counts'].max()]"
   ]
  },
  {
   "cell_type": "markdown",
   "metadata": {},
   "source": [
    "# the customer who bought the most items overall in her lifetime"
   ]
  },
  {
   "cell_type": "code",
   "execution_count": 125,
   "metadata": {},
   "outputs": [
    {
     "data": {
      "text/html": [
       "<div>\n",
       "<style scoped>\n",
       "    .dataframe tbody tr th:only-of-type {\n",
       "        vertical-align: middle;\n",
       "    }\n",
       "\n",
       "    .dataframe tbody tr th {\n",
       "        vertical-align: top;\n",
       "    }\n",
       "\n",
       "    .dataframe thead th {\n",
       "        text-align: right;\n",
       "    }\n",
       "</style>\n",
       "<table border=\"1\" class=\"dataframe\">\n",
       "  <thead>\n",
       "    <tr style=\"text-align: right;\">\n",
       "      <th></th>\n",
       "      <th>user_id</th>\n",
       "      <th>item_counts</th>\n",
       "    </tr>\n",
       "  </thead>\n",
       "  <tbody>\n",
       "    <tr>\n",
       "      <th>4445</th>\n",
       "      <td>269335</td>\n",
       "      <td>194</td>\n",
       "    </tr>\n",
       "  </tbody>\n",
       "</table>\n",
       "</div>"
      ],
      "text/plain": [
       "      user_id  item_counts\n",
       "4445   269335          194"
      ]
     },
     "execution_count": 125,
     "metadata": {},
     "output_type": "execute_result"
    }
   ],
   "source": [
    "purch.groupby('user_id')['item_counts'].sum().reset_index().sort_values('item_counts', ascending=False).head(1)\n"
   ]
  },
  {
   "cell_type": "code",
   "execution_count": 126,
   "metadata": {},
   "outputs": [
    {
     "data": {
      "text/html": [
       "<div>\n",
       "<style scoped>\n",
       "    .dataframe tbody tr th:only-of-type {\n",
       "        vertical-align: middle;\n",
       "    }\n",
       "\n",
       "    .dataframe tbody tr th {\n",
       "        vertical-align: top;\n",
       "    }\n",
       "\n",
       "    .dataframe thead th {\n",
       "        text-align: right;\n",
       "    }\n",
       "</style>\n",
       "<table border=\"1\" class=\"dataframe\">\n",
       "  <thead>\n",
       "    <tr style=\"text-align: right;\">\n",
       "      <th></th>\n",
       "      <th>user_id</th>\n",
       "      <th>id</th>\n",
       "      <th>item_count</th>\n",
       "      <th>item_counts</th>\n",
       "    </tr>\n",
       "  </thead>\n",
       "  <tbody>\n",
       "    <tr>\n",
       "      <th>12030</th>\n",
       "      <td>269335</td>\n",
       "      <td>2,1,42,11,9,39,37,19,38,23</td>\n",
       "      <td>39474</td>\n",
       "      <td>26</td>\n",
       "    </tr>\n",
       "    <tr>\n",
       "      <th>21971</th>\n",
       "      <td>269335</td>\n",
       "      <td>46,14,2,24,4,18,9,6,10,41,28,42,44,23</td>\n",
       "      <td>39474</td>\n",
       "      <td>37</td>\n",
       "    </tr>\n",
       "    <tr>\n",
       "      <th>25662</th>\n",
       "      <td>269335</td>\n",
       "      <td>13,47,21,2,9,23,36,48,17,42,10,37,6</td>\n",
       "      <td>39474</td>\n",
       "      <td>35</td>\n",
       "    </tr>\n",
       "    <tr>\n",
       "      <th>31105</th>\n",
       "      <td>269335</td>\n",
       "      <td>37,13,6,2,18,3,42,9,38,35,24,36,39</td>\n",
       "      <td>39474</td>\n",
       "      <td>34</td>\n",
       "    </tr>\n",
       "    <tr>\n",
       "      <th>34939</th>\n",
       "      <td>269335</td>\n",
       "      <td>44,3,11,22,2,10,36,25,30,40,28,20,41</td>\n",
       "      <td>39474</td>\n",
       "      <td>36</td>\n",
       "    </tr>\n",
       "    <tr>\n",
       "      <th>38512</th>\n",
       "      <td>269335</td>\n",
       "      <td>17,12,21,37,34,36,43,26,28</td>\n",
       "      <td>39474</td>\n",
       "      <td>26</td>\n",
       "    </tr>\n",
       "  </tbody>\n",
       "</table>\n",
       "</div>"
      ],
      "text/plain": [
       "       user_id                                     id  item_count  item_counts\n",
       "12030   269335             2,1,42,11,9,39,37,19,38,23       39474           26\n",
       "21971   269335  46,14,2,24,4,18,9,6,10,41,28,42,44,23       39474           37\n",
       "25662   269335    13,47,21,2,9,23,36,48,17,42,10,37,6       39474           35\n",
       "31105   269335     37,13,6,2,18,3,42,9,38,35,24,36,39       39474           34\n",
       "34939   269335   44,3,11,22,2,10,36,25,30,40,28,20,41       39474           36\n",
       "38512   269335             17,12,21,37,34,36,43,26,28       39474           26"
      ]
     },
     "execution_count": 126,
     "metadata": {},
     "output_type": "execute_result"
    }
   ],
   "source": [
    "purch[purch['user_id']==269335]"
   ]
  },
  {
   "cell_type": "code",
   "execution_count": null,
   "metadata": {},
   "outputs": [],
   "source": []
  },
  {
   "cell_type": "code",
   "execution_count": 177,
   "metadata": {},
   "outputs": [],
   "source": [
    "matrix_dict=defaultdict(int)"
   ]
  },
  {
   "cell_type": "code",
   "execution_count": 178,
   "metadata": {},
   "outputs": [],
   "source": [
    "for i in range(purch.shape[0]):\n",
    "    #print('i',purch.user_id[i])\n",
    "    for item in purch['id'][i].split(','):\n",
    "        matrix_dict[purch.user_id[i],int(item)]+=1"
   ]
  },
  {
   "cell_type": "code",
   "execution_count": 179,
   "metadata": {},
   "outputs": [
    {
     "data": {
      "text/plain": [
       "290558"
      ]
     },
     "execution_count": 179,
     "metadata": {},
     "output_type": "execute_result"
    }
   ],
   "source": [
    "len(matrix_dict)\n"
   ]
  },
  {
   "cell_type": "code",
   "execution_count": 180,
   "metadata": {},
   "outputs": [],
   "source": [
    "rows, cols, vals = [], [], []\n",
    "for key, value in matrix_dict.items():\n",
    "    #print(key[0])\n",
    "    rows.append(key[0])\n",
    "    cols.append(key[1])\n",
    "    vals.append(matrix_dict[key])\n",
    "sparse_matrix = sparse.csr_matrix((vals, (rows, cols)))"
   ]
  },
  {
   "cell_type": "code",
   "execution_count": 227,
   "metadata": {},
   "outputs": [],
   "source": [
    "dense = sparse_matrix.todense()"
   ]
  },
  {
   "cell_type": "code",
   "execution_count": 231,
   "metadata": {},
   "outputs": [],
   "source": [
    "df = pd.DataFrame(dense)"
   ]
  },
  {
   "cell_type": "code",
   "execution_count": 237,
   "metadata": {},
   "outputs": [
    {
     "data": {
      "text/html": [
       "<div>\n",
       "<style scoped>\n",
       "    .dataframe tbody tr th:only-of-type {\n",
       "        vertical-align: middle;\n",
       "    }\n",
       "\n",
       "    .dataframe tbody tr th {\n",
       "        vertical-align: top;\n",
       "    }\n",
       "\n",
       "    .dataframe thead th {\n",
       "        text-align: right;\n",
       "    }\n",
       "</style>\n",
       "<table border=\"1\" class=\"dataframe\">\n",
       "  <thead>\n",
       "    <tr style=\"text-align: right;\">\n",
       "      <th></th>\n",
       "      <th>0</th>\n",
       "      <th>1</th>\n",
       "      <th>2</th>\n",
       "      <th>3</th>\n",
       "      <th>4</th>\n",
       "      <th>5</th>\n",
       "      <th>6</th>\n",
       "      <th>7</th>\n",
       "      <th>8</th>\n",
       "      <th>9</th>\n",
       "      <th>...</th>\n",
       "      <th>39</th>\n",
       "      <th>40</th>\n",
       "      <th>41</th>\n",
       "      <th>42</th>\n",
       "      <th>43</th>\n",
       "      <th>44</th>\n",
       "      <th>45</th>\n",
       "      <th>46</th>\n",
       "      <th>47</th>\n",
       "      <th>48</th>\n",
       "    </tr>\n",
       "  </thead>\n",
       "  <tbody>\n",
       "    <tr>\n",
       "      <th>0</th>\n",
       "      <td>0</td>\n",
       "      <td>0</td>\n",
       "      <td>0</td>\n",
       "      <td>0</td>\n",
       "      <td>0</td>\n",
       "      <td>0</td>\n",
       "      <td>0</td>\n",
       "      <td>0</td>\n",
       "      <td>0</td>\n",
       "      <td>0</td>\n",
       "      <td>...</td>\n",
       "      <td>0</td>\n",
       "      <td>0</td>\n",
       "      <td>0</td>\n",
       "      <td>0</td>\n",
       "      <td>0</td>\n",
       "      <td>0</td>\n",
       "      <td>0</td>\n",
       "      <td>0</td>\n",
       "      <td>0</td>\n",
       "      <td>0</td>\n",
       "    </tr>\n",
       "    <tr>\n",
       "      <th>1</th>\n",
       "      <td>0</td>\n",
       "      <td>0</td>\n",
       "      <td>0</td>\n",
       "      <td>0</td>\n",
       "      <td>0</td>\n",
       "      <td>0</td>\n",
       "      <td>0</td>\n",
       "      <td>0</td>\n",
       "      <td>0</td>\n",
       "      <td>0</td>\n",
       "      <td>...</td>\n",
       "      <td>0</td>\n",
       "      <td>0</td>\n",
       "      <td>0</td>\n",
       "      <td>0</td>\n",
       "      <td>0</td>\n",
       "      <td>0</td>\n",
       "      <td>0</td>\n",
       "      <td>0</td>\n",
       "      <td>0</td>\n",
       "      <td>0</td>\n",
       "    </tr>\n",
       "    <tr>\n",
       "      <th>2</th>\n",
       "      <td>0</td>\n",
       "      <td>0</td>\n",
       "      <td>0</td>\n",
       "      <td>0</td>\n",
       "      <td>0</td>\n",
       "      <td>0</td>\n",
       "      <td>0</td>\n",
       "      <td>0</td>\n",
       "      <td>0</td>\n",
       "      <td>0</td>\n",
       "      <td>...</td>\n",
       "      <td>0</td>\n",
       "      <td>0</td>\n",
       "      <td>0</td>\n",
       "      <td>0</td>\n",
       "      <td>0</td>\n",
       "      <td>0</td>\n",
       "      <td>0</td>\n",
       "      <td>0</td>\n",
       "      <td>0</td>\n",
       "      <td>0</td>\n",
       "    </tr>\n",
       "    <tr>\n",
       "      <th>3</th>\n",
       "      <td>0</td>\n",
       "      <td>0</td>\n",
       "      <td>0</td>\n",
       "      <td>0</td>\n",
       "      <td>0</td>\n",
       "      <td>0</td>\n",
       "      <td>0</td>\n",
       "      <td>0</td>\n",
       "      <td>0</td>\n",
       "      <td>0</td>\n",
       "      <td>...</td>\n",
       "      <td>0</td>\n",
       "      <td>0</td>\n",
       "      <td>0</td>\n",
       "      <td>0</td>\n",
       "      <td>0</td>\n",
       "      <td>0</td>\n",
       "      <td>0</td>\n",
       "      <td>0</td>\n",
       "      <td>0</td>\n",
       "      <td>0</td>\n",
       "    </tr>\n",
       "    <tr>\n",
       "      <th>4</th>\n",
       "      <td>0</td>\n",
       "      <td>0</td>\n",
       "      <td>0</td>\n",
       "      <td>0</td>\n",
       "      <td>0</td>\n",
       "      <td>0</td>\n",
       "      <td>0</td>\n",
       "      <td>0</td>\n",
       "      <td>0</td>\n",
       "      <td>0</td>\n",
       "      <td>...</td>\n",
       "      <td>0</td>\n",
       "      <td>0</td>\n",
       "      <td>0</td>\n",
       "      <td>0</td>\n",
       "      <td>0</td>\n",
       "      <td>0</td>\n",
       "      <td>0</td>\n",
       "      <td>0</td>\n",
       "      <td>0</td>\n",
       "      <td>0</td>\n",
       "    </tr>\n",
       "  </tbody>\n",
       "</table>\n",
       "<p>5 rows × 49 columns</p>\n",
       "</div>"
      ],
      "text/plain": [
       "   0   1   2   3   4   5   6   7   8   9   ...  39  40  41  42  43  44  45  \\\n",
       "0   0   0   0   0   0   0   0   0   0   0  ...   0   0   0   0   0   0   0   \n",
       "1   0   0   0   0   0   0   0   0   0   0  ...   0   0   0   0   0   0   0   \n",
       "2   0   0   0   0   0   0   0   0   0   0  ...   0   0   0   0   0   0   0   \n",
       "3   0   0   0   0   0   0   0   0   0   0  ...   0   0   0   0   0   0   0   \n",
       "4   0   0   0   0   0   0   0   0   0   0  ...   0   0   0   0   0   0   0   \n",
       "\n",
       "   46  47  48  \n",
       "0   0   0   0  \n",
       "1   0   0   0  \n",
       "2   0   0   0  \n",
       "3   0   0   0  \n",
       "4   0   0   0  \n",
       "\n",
       "[5 rows x 49 columns]"
      ]
     },
     "execution_count": 237,
     "metadata": {},
     "output_type": "execute_result"
    }
   ],
   "source": [
    "df.head()"
   ]
  },
  {
   "cell_type": "markdown",
   "metadata": {},
   "source": [
    "# for each item, the customer who bought that product the most"
   ]
  },
  {
   "cell_type": "code",
   "execution_count": 236,
   "metadata": {},
   "outputs": [
    {
     "data": {
      "text/plain": [
       "0           0\n",
       "1       31625\n",
       "2       31625\n",
       "3      154960\n",
       "4        5289\n",
       "5      217277\n",
       "6      334664\n",
       "7      175865\n",
       "8      151926\n",
       "9      269335\n",
       "10     618914\n",
       "11     367872\n",
       "12     557904\n",
       "13     653800\n",
       "14     172120\n",
       "15     143741\n",
       "16      73071\n",
       "17     366155\n",
       "18     917199\n",
       "19      31625\n",
       "20     885474\n",
       "21     884172\n",
       "22    1199670\n",
       "23     920002\n",
       "24     189913\n",
       "25      68282\n",
       "26     967573\n",
       "27     956666\n",
       "28     204624\n",
       "29     394348\n",
       "30      21779\n",
       "31     289360\n",
       "32     109578\n",
       "33    1310207\n",
       "34     305916\n",
       "35     450482\n",
       "36     269335\n",
       "37      46757\n",
       "38     255546\n",
       "39     599172\n",
       "40      38872\n",
       "41     133355\n",
       "42      80215\n",
       "43     996380\n",
       "44      31625\n",
       "45    1198106\n",
       "46    1218645\n",
       "47     384935\n",
       "48     335841\n",
       "dtype: int64"
      ]
     },
     "execution_count": 236,
     "metadata": {},
     "output_type": "execute_result"
    }
   ],
   "source": [
    "df.idxmax(axis=0)"
   ]
  },
  {
   "cell_type": "code",
   "execution_count": 238,
   "metadata": {},
   "outputs": [],
   "source": [
    "def fit_NMF(sparse_matrix_,n_components_,max_iter=250):\n",
    "    '''This function takes a sparse matrix, the number of components (topics) and max iterations allowed'''\n",
    "    from sklearn.decomposition import NMF\n",
    "    model = NMF(n_components=n_components_,max_iter=max_iter)\n",
    "    W = model.fit_transform(sparse_matrix_) # (transactions, topics)\n",
    "    H=model.components_ # (topics,items)\n",
    "    model_iter = model.n_iter_ \n",
    "    #display at console the number of iterations and the shape of the decomposed matrices\n",
    "    print('iterations:',model_iter,'W shape:',W.shape,'H shape:',H.shape)\n",
    "    \n",
    "    #calculate the strength of each topic my making it a hard classifier and scoring each topic accordingly\n",
    "    #make w a matrix of zeros shaped like W\n",
    "    w = np.zeros_like(W)\n",
    "    #if its the strongest, give it a 1!\n",
    "    w[np.arange(len(W)), W.argmax(1)] = 1\n",
    "    topic_strength = np.sum(w,axis=0)\n",
    "    topic_strength = np.round(topic_strength/topic_strength.sum(),2)\n",
    "    for i,t in enumerate(topic_strength):\n",
    "        print('topic %d strength: %f '%(i,t))\n",
    "    \n",
    "    return model,W,H,model_iter,topic_strength"
   ]
  },
  {
   "cell_type": "code",
   "execution_count": 285,
   "metadata": {},
   "outputs": [],
   "source": [
    "items_set=items.Item_name.unique()"
   ]
  },
  {
   "cell_type": "code",
   "execution_count": 286,
   "metadata": {},
   "outputs": [
    {
     "data": {
      "text/plain": [
       "48"
      ]
     },
     "execution_count": 286,
     "metadata": {},
     "output_type": "execute_result"
    }
   ],
   "source": [
    "len(items_set)"
   ]
  },
  {
   "cell_type": "code",
   "execution_count": 288,
   "metadata": {},
   "outputs": [],
   "source": [
    "n_top_words=10\n",
    "number_of_components=4"
   ]
  },
  {
   "cell_type": "code",
   "execution_count": 289,
   "metadata": {},
   "outputs": [
    {
     "name": "stdout",
     "output_type": "stream",
     "text": [
      "iterations: 217 W shape: (1499975, 4) H shape: (4, 49)\n",
      "topic 0 strength: 0.990000 \n",
      "topic 1 strength: 0.000000 \n",
      "topic 2 strength: 0.000000 \n",
      "topic 3 strength: 0.000000 \n"
     ]
    }
   ],
   "source": [
    "model,W,H,model_iter,topic_strength = fit_NMF(sparse_matrix,n_components_=number_of_components)"
   ]
  },
  {
   "cell_type": "code",
   "execution_count": 302,
   "metadata": {},
   "outputs": [],
   "source": [
    "def print_top_items(model, feature_names, n_top_words):\n",
    "    '''This fuction requires a model, a list of items, and the number of top words per topic\n",
    "    to create words clouds and lists of items for the n_top_words in each topic'''\n",
    "    topic_dict = defaultdict()\n",
    "    topics_list =[]\n",
    "    fig = plt.figure(1,figsize=(100,100))\n",
    "    #itereate through each topic and create words clouds\n",
    "    for topic_idx, topic in enumerate(model.components_):\n",
    "        print(topic_strength[topic_idx],\"Topic #%d of %d:\" %( topic_idx,number_of_components))\n",
    "        #topic_string=(\" \".join([feature_names[i]for i in topic.argsort()[:-n_top_words - 1:-1]]))\n",
    "        topic_string=[feature_names[i]for i in topic.argsort()[:-n_top_words-1:-1]-1]\n",
    "        topic_dict[topic_idx]=topic_string\n",
    "        topics_list.append(topic_string)\n",
    "        print(topic_string)\n",
    "        '''\n",
    "        #create wordclouds, remove spaces between words\n",
    "        wordcloud = WordCloud(max_font_size=500, max_words=1000, background_color=\"white\").generate(str(topic_string).replace(\" \", '').replace(\"'\",\"\"))\n",
    "        #wordcloud = WordCloud(max_font_size=500, max_words=1000, background_color=\"white\").generate(str(topic_string).replace(\"'\",\"\").replace(\",\",\"\"))\n",
    "        ax = fig.add_subplot(1,number_of_components,topic_idx+1)\n",
    "        ax.imshow(wordcloud)\n",
    "        ax.axis(\"off\")\n",
    "        # Display the generated image:\n",
    "        #plt.figure(1,figsize=(10,10))\n",
    "        \n",
    "        plt.imshow(wordcloud, interpolation='bilinear')\n",
    "        plt.axis(\"off\")\n",
    "        plt.show()\n",
    "        \n",
    "        #plt.savefig('topic%d.png'%topic_idx)\n",
    "        #plt.close()\n",
    "        img_time=str(time.time()).split('.')[0]\n",
    "        wordcloud.to_file('./img/2018/%s.topic%d.png'%(img_time,topic_idx))\n",
    "        print('<img src=\"./img/2018/%s.topic%d.png\">'%(img_time,topic_idx))\n",
    "        '''\n",
    "    #create a matrix to compare the similarities of different topics top words\n",
    "    topic_compare = np.zeros([len(topic_dict),len(topic_dict)])\n",
    "    #fill the topic_compare matrix with count of similar words to other matricies\n",
    "    for topic in topic_dict:\n",
    "        for item in topic_dict[topic]:\n",
    "            for topic2 in topic_dict:\n",
    "                if item in topic_dict[topic2]:\n",
    "                    topic_compare[topic,topic2]+=1\n",
    "    #display the results\n",
    "    print ('topic similarity matix:')\n",
    "    print (topic_strength)            \n",
    "    print(topic_compare)\n",
    "\n",
    "    topic_matrix=np.array(topics_list).T\n",
    "    print (topic_matrix.shape)\n",
    "    topic_df = pd.DataFrame(topic_matrix,columns=topic_strength)\n",
    "    #create markdown friendly dataframe of top items per topic\n",
    "    import tabulate \n",
    "    print(tabulate.tabulate(topic_df.values,topic_df.columns, tablefmt=\"pipe\")) \n",
    "    return topic_dict,topics_list\n",
    "    "
   ]
  },
  {
   "cell_type": "code",
   "execution_count": 303,
   "metadata": {},
   "outputs": [
    {
     "name": "stdout",
     "output_type": "stream",
     "text": [
      "0.99 Topic #0 of 4:\n",
      "['tea', 'sandwich bags', 'soap', 'spaghetti sauce', 'hand soap', 'coffee', 'juice', 'cereals', 'dinner rolls', 'baby items']\n",
      "0.0 Topic #1 of 4:\n",
      "['beef', 'pasta', 'broccoli', 'shaving cream', 'toilet paper', 'baby items', 'juice', 'dinner rolls', 'bananas', 'frozen vegetables']\n",
      "0.0 Topic #2 of 4:\n",
      "['cauliflower', 'paper towels', 'eggs', 'laundry detergent', 'butter', 'coffee', 'bagels', 'waffles', 'milk', 'pet items']\n",
      "0.0 Topic #3 of 4:\n",
      "['canned vegetables', 'dishwashing\\xa0', 'shampoo', 'ice cream', 'dinner rolls', 'cereals', 'baby items', 'coffee', 'pork', 'bananas']\n",
      "topic similarity matix:\n",
      "[0.99 0.   0.   0.  ]\n",
      "[[10.  3.  1.  4.]\n",
      " [ 3. 10.  0.  3.]\n",
      " [ 1.  0. 10.  1.]\n",
      " [ 4.  3.  1. 10.]]\n",
      "(10, 4)\n",
      "| 0.99            | 0.0               | 0.0               | 0.0               |\n",
      "|:----------------|:------------------|:------------------|:------------------|\n",
      "| tea             | beef              | cauliflower       | canned vegetables |\n",
      "| sandwich bags   | pasta             | paper towels      | dishwashing       |\n",
      "| soap            | broccoli          | eggs              | shampoo           |\n",
      "| spaghetti sauce | shaving cream     | laundry detergent | ice cream         |\n",
      "| hand soap       | toilet paper      | butter            | dinner rolls      |\n",
      "| coffee          | baby items        | coffee            | cereals           |\n",
      "| juice           | juice             | bagels            | baby items        |\n",
      "| cereals         | dinner rolls      | waffles           | coffee            |\n",
      "| dinner rolls    | bananas           | milk              | pork              |\n",
      "| baby items      | frozen vegetables | pet items         | bananas           |\n"
     ]
    },
    {
     "data": {
      "text/plain": [
       "<Figure size 7200x7200 with 0 Axes>"
      ]
     },
     "metadata": {},
     "output_type": "display_data"
    }
   ],
   "source": [
    "topic_dict,topics_list = print_top_items(model,list(items_set),n_top_words)"
   ]
  },
  {
   "cell_type": "code",
   "execution_count": 215,
   "metadata": {},
   "outputs": [
    {
     "data": {
      "text/plain": [
       "5848"
      ]
     },
     "execution_count": 215,
     "metadata": {},
     "output_type": "execute_result"
    }
   ],
   "source": [
    "k"
   ]
  },
  {
   "cell_type": "code",
   "execution_count": 217,
   "metadata": {},
   "outputs": [
    {
     "data": {
      "text/plain": [
       "<1x49 sparse matrix of type '<class 'numpy.int64'>'\n",
       "\twith 48 stored elements in COOrdinate format>"
      ]
     },
     "execution_count": 217,
     "metadata": {},
     "output_type": "execute_result"
    }
   ],
   "source": [
    "sparse_matrix.max(axis=0)"
   ]
  },
  {
   "cell_type": "code",
   "execution_count": null,
   "metadata": {},
   "outputs": [],
   "source": []
  }
 ],
 "metadata": {
  "kernelspec": {
   "display_name": "Python 3",
   "language": "python",
   "name": "python3"
  },
  "language_info": {
   "codemirror_mode": {
    "name": "ipython",
    "version": 3
   },
   "file_extension": ".py",
   "mimetype": "text/x-python",
   "name": "python",
   "nbconvert_exporter": "python",
   "pygments_lexer": "ipython3",
   "version": "3.6.8"
  }
 },
 "nbformat": 4,
 "nbformat_minor": 2
}
