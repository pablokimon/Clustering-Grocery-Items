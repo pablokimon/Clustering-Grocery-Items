{
 "cells": [
  {
   "cell_type": "code",
   "execution_count": 155,
   "metadata": {},
   "outputs": [],
   "source": [
    "import pandas as pd\n",
    "import numpy as np\n",
    "import matplotlib.pyplot as plt\n",
    "from collections import defaultdict\n",
    "from scipy import sparse"
   ]
  },
  {
   "cell_type": "code",
   "execution_count": 7,
   "metadata": {},
   "outputs": [],
   "source": [
    "items = pd.read_csv('data/item_to_id.csv')"
   ]
  },
  {
   "cell_type": "code",
   "execution_count": 8,
   "metadata": {},
   "outputs": [],
   "source": [
    "purch = pd.read_csv('data/purchase_history.csv')"
   ]
  },
  {
   "cell_type": "code",
   "execution_count": 14,
   "metadata": {},
   "outputs": [
    {
     "data": {
      "text/plain": [
       "((48, 2),          Item_name  Item_id\n",
       " 0           coffee       43\n",
       " 1              tea       23\n",
       " 2            juice       38\n",
       " 3             soda        9\n",
       " 4  sandwich loaves       39)"
      ]
     },
     "execution_count": 14,
     "metadata": {},
     "output_type": "execute_result"
    }
   ],
   "source": [
    "items.shape, items.head()\n"
   ]
  },
  {
   "cell_type": "code",
   "execution_count": 15,
   "metadata": {},
   "outputs": [
    {
     "data": {
      "text/plain": [
       "((39474, 2),    user_id                                                 id\n",
       " 0   222087                                              27,26\n",
       " 1  1343649                                            6,47,17\n",
       " 2   404134                       18,12,23,22,27,43,38,20,35,1\n",
       " 3  1110200                                 9,23,2,20,26,47,37\n",
       " 4   224107  31,18,5,13,1,21,48,16,26,2,44,32,20,37,42,35,4...)"
      ]
     },
     "execution_count": 15,
     "metadata": {},
     "output_type": "execute_result"
    }
   ],
   "source": [
    "purch.shape, purch.head()\n"
   ]
  },
  {
   "cell_type": "code",
   "execution_count": 22,
   "metadata": {},
   "outputs": [
    {
     "data": {
      "text/plain": [
       "24885"
      ]
     },
     "execution_count": 22,
     "metadata": {},
     "output_type": "execute_result"
    }
   ],
   "source": [
    "len(purch.user_id.unique())"
   ]
  },
  {
   "cell_type": "code",
   "execution_count": 18,
   "metadata": {},
   "outputs": [
    {
     "data": {
      "text/plain": [
       "696000     7\n",
       "31625      7\n",
       "653800     7\n",
       "884172     7\n",
       "315516     6\n",
       "453019     6\n",
       "38872      6\n",
       "779061     6\n",
       "1374100    6\n",
       "813270     6\n",
       "64998      6\n",
       "1271578    6\n",
       "1499087    6\n",
       "917199     6\n",
       "946453     6\n",
       "373484     6\n",
       "1270373    6\n",
       "367872     6\n",
       "599172     6\n",
       "238495     6\n",
       "617988     6\n",
       "719358     6\n",
       "117178     6\n",
       "920002     6\n",
       "269335     6\n",
       "723012     6\n",
       "1485538    6\n",
       "828721     6\n",
       "820788     5\n",
       "1494796    5\n",
       "          ..\n",
       "33986      1\n",
       "187593     1\n",
       "785613     1\n",
       "295767     1\n",
       "1254614    1\n",
       "641290     1\n",
       "43310      1\n",
       "744665     1\n",
       "627936     1\n",
       "961767     1\n",
       "512403     1\n",
       "1195253    1\n",
       "1328314    1\n",
       "875705     1\n",
       "939192     1\n",
       "486355     1\n",
       "736730     1\n",
       "1240239    1\n",
       "1092775    1\n",
       "365728     1\n",
       "1076383    1\n",
       "243198     1\n",
       "1193108    1\n",
       "894126     1\n",
       "1485489    1\n",
       "916621     1\n",
       "652428     1\n",
       "840840     1\n",
       "1401982    1\n",
       "1023836    1\n",
       "Name: user_id, Length: 24885, dtype: int64"
      ]
     },
     "execution_count": 18,
     "metadata": {},
     "output_type": "execute_result"
    }
   ],
   "source": [
    "purch.user_id.value_counts()"
   ]
  },
  {
   "cell_type": "code",
   "execution_count": 61,
   "metadata": {},
   "outputs": [],
   "source": [
    "purch['item_count']=purch['id'].count()"
   ]
  },
  {
   "cell_type": "code",
   "execution_count": 86,
   "metadata": {},
   "outputs": [],
   "source": [
    "iz=purch[:1]['id'].values"
   ]
  },
  {
   "cell_type": "code",
   "execution_count": 104,
   "metadata": {},
   "outputs": [],
   "source": [
    "item_counts=[]\n",
    "customer_items=defaultdict()\n",
    "for idx in purch['id']:\n",
    "    item_counts.append(len(idx))\n",
    "    "
   ]
  },
  {
   "cell_type": "code",
   "execution_count": 108,
   "metadata": {},
   "outputs": [],
   "source": [
    "purch['item_counts']=item_counts"
   ]
  },
  {
   "cell_type": "code",
   "execution_count": 113,
   "metadata": {},
   "outputs": [
    {
     "data": {
      "text/html": [
       "<div>\n",
       "<style scoped>\n",
       "    .dataframe tbody tr th:only-of-type {\n",
       "        vertical-align: middle;\n",
       "    }\n",
       "\n",
       "    .dataframe tbody tr th {\n",
       "        vertical-align: top;\n",
       "    }\n",
       "\n",
       "    .dataframe thead th {\n",
       "        text-align: right;\n",
       "    }\n",
       "</style>\n",
       "<table border=\"1\" class=\"dataframe\">\n",
       "  <thead>\n",
       "    <tr style=\"text-align: right;\">\n",
       "      <th></th>\n",
       "      <th>user_id</th>\n",
       "      <th>id</th>\n",
       "      <th>item_count</th>\n",
       "      <th>item_counts</th>\n",
       "    </tr>\n",
       "  </thead>\n",
       "  <tbody>\n",
       "    <tr>\n",
       "      <th>3332</th>\n",
       "      <td>388149</td>\n",
       "      <td>18,38,36,7,1,10,45,26,39,5,44,40,32,25,9,21,28...</td>\n",
       "      <td>39474</td>\n",
       "      <td>75</td>\n",
       "    </tr>\n",
       "  </tbody>\n",
       "</table>\n",
       "</div>"
      ],
      "text/plain": [
       "      user_id                                                 id  item_count  \\\n",
       "3332   388149  18,38,36,7,1,10,45,26,39,5,44,40,32,25,9,21,28...       39474   \n",
       "\n",
       "      item_counts  \n",
       "3332           75  "
      ]
     },
     "execution_count": 113,
     "metadata": {},
     "output_type": "execute_result"
    }
   ],
   "source": [
    "purch[purch['item_counts']==purch['item_counts'].max()]"
   ]
  },
  {
   "cell_type": "code",
   "execution_count": 125,
   "metadata": {},
   "outputs": [
    {
     "data": {
      "text/html": [
       "<div>\n",
       "<style scoped>\n",
       "    .dataframe tbody tr th:only-of-type {\n",
       "        vertical-align: middle;\n",
       "    }\n",
       "\n",
       "    .dataframe tbody tr th {\n",
       "        vertical-align: top;\n",
       "    }\n",
       "\n",
       "    .dataframe thead th {\n",
       "        text-align: right;\n",
       "    }\n",
       "</style>\n",
       "<table border=\"1\" class=\"dataframe\">\n",
       "  <thead>\n",
       "    <tr style=\"text-align: right;\">\n",
       "      <th></th>\n",
       "      <th>user_id</th>\n",
       "      <th>item_counts</th>\n",
       "    </tr>\n",
       "  </thead>\n",
       "  <tbody>\n",
       "    <tr>\n",
       "      <th>4445</th>\n",
       "      <td>269335</td>\n",
       "      <td>194</td>\n",
       "    </tr>\n",
       "  </tbody>\n",
       "</table>\n",
       "</div>"
      ],
      "text/plain": [
       "      user_id  item_counts\n",
       "4445   269335          194"
      ]
     },
     "execution_count": 125,
     "metadata": {},
     "output_type": "execute_result"
    }
   ],
   "source": [
    "purch.groupby('user_id')['item_counts'].sum().reset_index().sort_values('item_counts', ascending=False).head(1)\n"
   ]
  },
  {
   "cell_type": "code",
   "execution_count": 126,
   "metadata": {},
   "outputs": [
    {
     "data": {
      "text/html": [
       "<div>\n",
       "<style scoped>\n",
       "    .dataframe tbody tr th:only-of-type {\n",
       "        vertical-align: middle;\n",
       "    }\n",
       "\n",
       "    .dataframe tbody tr th {\n",
       "        vertical-align: top;\n",
       "    }\n",
       "\n",
       "    .dataframe thead th {\n",
       "        text-align: right;\n",
       "    }\n",
       "</style>\n",
       "<table border=\"1\" class=\"dataframe\">\n",
       "  <thead>\n",
       "    <tr style=\"text-align: right;\">\n",
       "      <th></th>\n",
       "      <th>user_id</th>\n",
       "      <th>id</th>\n",
       "      <th>item_count</th>\n",
       "      <th>item_counts</th>\n",
       "    </tr>\n",
       "  </thead>\n",
       "  <tbody>\n",
       "    <tr>\n",
       "      <th>12030</th>\n",
       "      <td>269335</td>\n",
       "      <td>2,1,42,11,9,39,37,19,38,23</td>\n",
       "      <td>39474</td>\n",
       "      <td>26</td>\n",
       "    </tr>\n",
       "    <tr>\n",
       "      <th>21971</th>\n",
       "      <td>269335</td>\n",
       "      <td>46,14,2,24,4,18,9,6,10,41,28,42,44,23</td>\n",
       "      <td>39474</td>\n",
       "      <td>37</td>\n",
       "    </tr>\n",
       "    <tr>\n",
       "      <th>25662</th>\n",
       "      <td>269335</td>\n",
       "      <td>13,47,21,2,9,23,36,48,17,42,10,37,6</td>\n",
       "      <td>39474</td>\n",
       "      <td>35</td>\n",
       "    </tr>\n",
       "    <tr>\n",
       "      <th>31105</th>\n",
       "      <td>269335</td>\n",
       "      <td>37,13,6,2,18,3,42,9,38,35,24,36,39</td>\n",
       "      <td>39474</td>\n",
       "      <td>34</td>\n",
       "    </tr>\n",
       "    <tr>\n",
       "      <th>34939</th>\n",
       "      <td>269335</td>\n",
       "      <td>44,3,11,22,2,10,36,25,30,40,28,20,41</td>\n",
       "      <td>39474</td>\n",
       "      <td>36</td>\n",
       "    </tr>\n",
       "    <tr>\n",
       "      <th>38512</th>\n",
       "      <td>269335</td>\n",
       "      <td>17,12,21,37,34,36,43,26,28</td>\n",
       "      <td>39474</td>\n",
       "      <td>26</td>\n",
       "    </tr>\n",
       "  </tbody>\n",
       "</table>\n",
       "</div>"
      ],
      "text/plain": [
       "       user_id                                     id  item_count  item_counts\n",
       "12030   269335             2,1,42,11,9,39,37,19,38,23       39474           26\n",
       "21971   269335  46,14,2,24,4,18,9,6,10,41,28,42,44,23       39474           37\n",
       "25662   269335    13,47,21,2,9,23,36,48,17,42,10,37,6       39474           35\n",
       "31105   269335     37,13,6,2,18,3,42,9,38,35,24,36,39       39474           34\n",
       "34939   269335   44,3,11,22,2,10,36,25,30,40,28,20,41       39474           36\n",
       "38512   269335             17,12,21,37,34,36,43,26,28       39474           26"
      ]
     },
     "execution_count": 126,
     "metadata": {},
     "output_type": "execute_result"
    }
   ],
   "source": [
    "purch[purch['user_id']==269335]"
   ]
  },
  {
   "cell_type": "code",
   "execution_count": null,
   "metadata": {},
   "outputs": [],
   "source": []
  },
  {
   "cell_type": "code",
   "execution_count": 177,
   "metadata": {},
   "outputs": [],
   "source": [
    "matrix_dict=defaultdict(int)"
   ]
  },
  {
   "cell_type": "code",
   "execution_count": 178,
   "metadata": {},
   "outputs": [],
   "source": [
    "for i in range(purch.shape[0]):\n",
    "    #print('i',purch.user_id[i])\n",
    "    for item in purch['id'][i].split(','):\n",
    "        matrix_dict[purch.user_id[i],int(item)]+=1"
   ]
  },
  {
   "cell_type": "code",
   "execution_count": 179,
   "metadata": {},
   "outputs": [
    {
     "data": {
      "text/plain": [
       "290558"
      ]
     },
     "execution_count": 179,
     "metadata": {},
     "output_type": "execute_result"
    }
   ],
   "source": [
    "len(matrix_dict)\n"
   ]
  },
  {
   "cell_type": "code",
   "execution_count": 180,
   "metadata": {},
   "outputs": [],
   "source": [
    "rows, cols, vals = [], [], []\n",
    "for key, value in matrix_dict.items():\n",
    "    #print(key[0])\n",
    "    rows.append(key[0])\n",
    "    cols.append(key[1])\n",
    "    vals.append(matrix_dict[key])\n",
    "sparse_matrix = sparse.csr_matrix((vals, (rows, cols)))"
   ]
  },
  {
   "cell_type": "code",
   "execution_count": 210,
   "metadata": {},
   "outputs": [],
   "source": [
    "y = sparse_matrix.tocoo()\n"
   ]
  },
  {
   "cell_type": "code",
   "execution_count": 209,
   "metadata": {},
   "outputs": [],
   "source": [
    "del coo"
   ]
  },
  {
   "cell_type": "code",
   "execution_count": 211,
   "metadata": {},
   "outputs": [],
   "source": [
    "k = y.data.argmax()\n",
    "maxval = y.data[k]\n",
    "maxrow = y.row[k]\n",
    "maxcol = y.col[k]"
   ]
  },
  {
   "cell_type": "code",
   "execution_count": 212,
   "metadata": {},
   "outputs": [
    {
     "data": {
      "text/plain": [
       "5"
      ]
     },
     "execution_count": 212,
     "metadata": {},
     "output_type": "execute_result"
    }
   ],
   "source": [
    "maxval"
   ]
  },
  {
   "cell_type": "code",
   "execution_count": 213,
   "metadata": {},
   "outputs": [
    {
     "data": {
      "text/plain": [
       "31625"
      ]
     },
     "execution_count": 213,
     "metadata": {},
     "output_type": "execute_result"
    }
   ],
   "source": [
    "maxrow\n"
   ]
  },
  {
   "cell_type": "code",
   "execution_count": 214,
   "metadata": {},
   "outputs": [
    {
     "data": {
      "text/plain": [
       "2"
      ]
     },
     "execution_count": 214,
     "metadata": {},
     "output_type": "execute_result"
    }
   ],
   "source": [
    "maxcol"
   ]
  },
  {
   "cell_type": "code",
   "execution_count": 215,
   "metadata": {},
   "outputs": [
    {
     "data": {
      "text/plain": [
       "5848"
      ]
     },
     "execution_count": 215,
     "metadata": {},
     "output_type": "execute_result"
    }
   ],
   "source": [
    "k"
   ]
  },
  {
   "cell_type": "code",
   "execution_count": 217,
   "metadata": {},
   "outputs": [
    {
     "data": {
      "text/plain": [
       "<1x49 sparse matrix of type '<class 'numpy.int64'>'\n",
       "\twith 48 stored elements in COOrdinate format>"
      ]
     },
     "execution_count": 217,
     "metadata": {},
     "output_type": "execute_result"
    }
   ],
   "source": [
    "sparse_matrix.max(axis=0)"
   ]
  },
  {
   "cell_type": "code",
   "execution_count": null,
   "metadata": {},
   "outputs": [],
   "source": []
  }
 ],
 "metadata": {
  "kernelspec": {
   "display_name": "Python 3",
   "language": "python",
   "name": "python3"
  },
  "language_info": {
   "codemirror_mode": {
    "name": "ipython",
    "version": 3
   },
   "file_extension": ".py",
   "mimetype": "text/x-python",
   "name": "python",
   "nbconvert_exporter": "python",
   "pygments_lexer": "ipython3",
   "version": "3.6.8"
  }
 },
 "nbformat": 4,
 "nbformat_minor": 2
}
